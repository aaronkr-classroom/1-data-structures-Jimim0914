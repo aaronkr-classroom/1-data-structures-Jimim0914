{
 "cells": [
  {
   "cell_type": "markdown",
   "metadata": {},
   "source": [
    "# 0. Hello, Python! (Basic Data Types)\n",
    "\n",
    "This is a Python refresher notebook. It covers the basic data types in Python."
   ]
  },
  {
   "cell_type": "code",
   "execution_count": 34,
   "metadata": {},
   "outputs": [
    {
     "name": "stdout",
     "output_type": "stream",
     "text": [
      "Integer:3\n"
     ]
    }
   ],
   "source": [
    "# --- Numeric Types ---\n",
    "# Integer\n",
    "num=3\n",
    "print(f\"Integer:{num}\")\n",
    "\n"
   ]
  },
  {
   "cell_type": "code",
   "execution_count": 35,
   "metadata": {},
   "outputs": [
    {
     "name": "stdout",
     "output_type": "stream",
     "text": [
      "Float: 10.333333\n"
     ]
    }
   ],
   "source": [
    "\n",
    "\n",
    "# Float\n",
    "decimal=10.333333\n",
    "print(f\"Float: {decimal}\")\n"
   ]
  },
  {
   "cell_type": "code",
   "execution_count": 36,
   "metadata": {},
   "outputs": [
    {
     "name": "stdout",
     "output_type": "stream",
     "text": [
      "complex:(2+3j)\n"
     ]
    }
   ],
   "source": [
    "\n",
    "\n",
    "# Complex\n",
    "complex=2+3j\n",
    "print(f\"complex:{complex}\")\n"
   ]
  },
  {
   "cell_type": "code",
   "execution_count": null,
   "metadata": {},
   "outputs": [],
   "source": []
  },
  {
   "cell_type": "code",
   "execution_count": 37,
   "metadata": {},
   "outputs": [
    {
     "name": "stdout",
     "output_type": "stream",
     "text": [
      "Mixed arr first item: a\n",
      "['a', 10, 'school', False, [10, 5, 2, 1]]\n"
     ]
    },
    {
     "data": {
      "text/plain": [
       "['a', 10, 'school', False, [10, 5, 2, 1]]"
      ]
     },
     "execution_count": 37,
     "metadata": {},
     "output_type": "execute_result"
    }
   ],
   "source": [
    "\n",
    "\n",
    "\n",
    "# --- String and Character ---\n",
    "# String\n",
    "name=\"Aaron\"\n",
    "\n",
    "\n",
    "\n",
    "# Character (In Python, a single character is just a string of length 1)\n",
    "char='a'\n",
    "\n",
    "# --- Boolean ---\n",
    "# Boolean values\n",
    "t=True #1\n",
    "f=False #0\n",
    "\n",
    "# --- Arrays (Lists) ---\n",
    "# List\n",
    "array=[1,2,3,4,5,6,7,8,9,0]\n",
    "mixed_arr=['a', 10, \"school\", False]\n",
    "\n",
    "\n",
    "# Accessing list elements\n",
    "print(f\"Mixed arr first item: {mixed_arr[0]}\")\n",
    "\n",
    "\n",
    "# Adding to a list\n",
    "mixed_arr.append([10,5,2,1])\n",
    "print(mixed_arr)\n",
    "mixed_arr\n",
    "\n"
   ]
  },
  {
   "cell_type": "code",
   "execution_count": 38,
   "metadata": {},
   "outputs": [
    {
     "name": "stdout",
     "output_type": "stream",
     "text": [
      "Hello, I'm Aaron and my ID is 2023000333.\n"
     ]
    }
   ],
   "source": [
    "\n",
    "\n",
    "# --- Objects (using classes) ---\n",
    "class Student:\n",
    "    def __init__(self, name, id):\n",
    "        self.name=name\n",
    "        self.id=id\n",
    "\n",
    "    def greet(self):\n",
    "        print(f\"Hello, I'm {self.name} and my ID is {self.id}.\")\n",
    "\n",
    "\n",
    "\n",
    "\n",
    "# Create an object of the Person class\n",
    "s1=Student(\"Aaron\",2023000333)\n",
    "s1.greet()\n",
    "\n"
   ]
  },
  {
   "cell_type": "code",
   "execution_count": 39,
   "metadata": {},
   "outputs": [],
   "source": [
    "class Food:\n",
    "    def __init__(self, name):\n",
    "        self.name = name \n",
    "\n",
    "    def __init__(self, name='apple', color='red', size=0, price=0):\n",
    "        self.name = name\n",
    "        self.color= color\n",
    "        self.size = size\n",
    "        self.price = price\n",
    "        self.quantity = 1\n",
    "\n",
    "    def printInfo(self):\n",
    "        if self.name == '' :\n",
    "            print(\"I am nothing.\")\n",
    "        else:\n",
    "            print(\"I am a\", self. name)\n",
    "            print(f\"I am a {self.name}.\")\n",
    "\n",
    "        print(f\"\")\n"
   ]
  },
  {
   "cell_type": "code",
   "execution_count": 40,
   "metadata": {},
   "outputs": [],
   "source": [
    "f1 = Food()\n",
    "f2 = Food('banana')\n",
    "f3 = Food('orange', 'orange')\n",
    "f4 = Food('grape', size = 3)\n",
    "f5 = Food('pear', 3)"
   ]
  },
  {
   "cell_type": "code",
   "execution_count": 41,
   "metadata": {},
   "outputs": [
    {
     "name": "stdout",
     "output_type": "stream",
     "text": [
      "I am a apple\n",
      "I am a apple.\n",
      "\n"
     ]
    }
   ],
   "source": [
    "f1.printInfo()"
   ]
  },
  {
   "cell_type": "code",
   "execution_count": 42,
   "metadata": {},
   "outputs": [
    {
     "data": {
      "text/plain": [
       "0"
      ]
     },
     "execution_count": 42,
     "metadata": {},
     "output_type": "execute_result"
    }
   ],
   "source": [
    "f5.price"
   ]
  },
  {
   "cell_type": "code",
   "execution_count": 43,
   "metadata": {},
   "outputs": [],
   "source": [
    "\n",
    "\n",
    "# --- Type Conversion ---\n",
    "# Convert integer to float \n",
    " \n",
    "\n",
    "\n",
    "# Convert float to integer (truncates the decimal part)\n",
    "\n",
    "\n",
    "# Convert boolean to integer\n",
    "\n",
    "\n",
    "# --- Type Checking ---\n",
    "# 교수님은 이거 지우셨음"
   ]
  },
  {
   "cell_type": "markdown",
   "metadata": {},
   "source": [
    "# 1. Hello, World! (First Program)\n",
    "\n",
    "This is a simple introduction to Python syntax and the print() function."
   ]
  },
  {
   "cell_type": "code",
   "execution_count": 44,
   "metadata": {},
   "outputs": [],
   "source": [
    "# Basic \"Hello, World!\" example\n",
    "\n"
   ]
  },
  {
   "cell_type": "markdown",
   "metadata": {},
   "source": [
    "# 2. Basic Math Operations\n",
    "\n",
    "Introduce variables and arithmetic operators."
   ]
  },
  {
   "cell_type": "code",
   "execution_count": 45,
   "metadata": {},
   "outputs": [],
   "source": [
    "# Simple math operations\n",
    "\n",
    "\n",
    "# Addition\n",
    "\n",
    "# Subtraction\n",
    "\n",
    "# Multiplication\n",
    "\n",
    "# Division\n"
   ]
  },
  {
   "cell_type": "markdown",
   "metadata": {},
   "source": [
    "# 3. Getting User Input\n",
    "\n",
    "Demonstrates how to interact with the user via input()."
   ]
  },
  {
   "cell_type": "code",
   "execution_count": 57,
   "metadata": {},
   "outputs": [
    {
     "ename": "KeyboardInterrupt",
     "evalue": "Interrupted by user",
     "output_type": "error",
     "traceback": [
      "\u001b[0;31m---------------------------------------------------------------------------\u001b[0m",
      "\u001b[0;31mKeyboardInterrupt\u001b[0m                         Traceback (most recent call last)",
      "Cell \u001b[0;32mIn[57], line 2\u001b[0m\n\u001b[1;32m      1\u001b[0m \u001b[38;5;66;03m# Getting user input and using it\u001b[39;00m\n\u001b[0;32m----> 2\u001b[0m name \u001b[38;5;241m=\u001b[39m \u001b[38;5;28;43minput\u001b[39;49m\u001b[43m(\u001b[49m\u001b[38;5;124;43m\"\u001b[39;49m\u001b[38;5;124;43mWhat\u001b[39;49m\u001b[38;5;124;43m'\u001b[39;49m\u001b[38;5;124;43ms your name? >>> \u001b[39;49m\u001b[38;5;124;43m\"\u001b[39;49m\u001b[43m)\u001b[49m\n\u001b[1;32m      3\u001b[0m \u001b[38;5;28mprint\u001b[39m(\u001b[38;5;124m\"\u001b[39m\u001b[38;5;124mHello\u001b[39m\u001b[38;5;124m\"\u001b[39m\u001b[38;5;241m+\u001b[39m name \u001b[38;5;241m+\u001b[39m \u001b[38;5;124m\"\u001b[39m\u001b[38;5;124m!\u001b[39m\u001b[38;5;124m\"\u001b[39m)\n\u001b[1;32m      5\u001b[0m \u001b[38;5;66;03m# Working with numbers\u001b[39;00m\n",
      "File \u001b[0;32m~/.local/lib/python3.12/site-packages/ipykernel/kernelbase.py:1282\u001b[0m, in \u001b[0;36mKernel.raw_input\u001b[0;34m(self, prompt)\u001b[0m\n\u001b[1;32m   1280\u001b[0m     msg \u001b[38;5;241m=\u001b[39m \u001b[38;5;124m\"\u001b[39m\u001b[38;5;124mraw_input was called, but this frontend does not support input requests.\u001b[39m\u001b[38;5;124m\"\u001b[39m\n\u001b[1;32m   1281\u001b[0m     \u001b[38;5;28;01mraise\u001b[39;00m StdinNotImplementedError(msg)\n\u001b[0;32m-> 1282\u001b[0m \u001b[38;5;28;01mreturn\u001b[39;00m \u001b[38;5;28;43mself\u001b[39;49m\u001b[38;5;241;43m.\u001b[39;49m\u001b[43m_input_request\u001b[49m\u001b[43m(\u001b[49m\n\u001b[1;32m   1283\u001b[0m \u001b[43m    \u001b[49m\u001b[38;5;28;43mstr\u001b[39;49m\u001b[43m(\u001b[49m\u001b[43mprompt\u001b[49m\u001b[43m)\u001b[49m\u001b[43m,\u001b[49m\n\u001b[1;32m   1284\u001b[0m \u001b[43m    \u001b[49m\u001b[38;5;28;43mself\u001b[39;49m\u001b[38;5;241;43m.\u001b[39;49m\u001b[43m_parent_ident\u001b[49m\u001b[43m[\u001b[49m\u001b[38;5;124;43m\"\u001b[39;49m\u001b[38;5;124;43mshell\u001b[39;49m\u001b[38;5;124;43m\"\u001b[39;49m\u001b[43m]\u001b[49m\u001b[43m,\u001b[49m\n\u001b[1;32m   1285\u001b[0m \u001b[43m    \u001b[49m\u001b[38;5;28;43mself\u001b[39;49m\u001b[38;5;241;43m.\u001b[39;49m\u001b[43mget_parent\u001b[49m\u001b[43m(\u001b[49m\u001b[38;5;124;43m\"\u001b[39;49m\u001b[38;5;124;43mshell\u001b[39;49m\u001b[38;5;124;43m\"\u001b[39;49m\u001b[43m)\u001b[49m\u001b[43m,\u001b[49m\n\u001b[1;32m   1286\u001b[0m \u001b[43m    \u001b[49m\u001b[43mpassword\u001b[49m\u001b[38;5;241;43m=\u001b[39;49m\u001b[38;5;28;43;01mFalse\u001b[39;49;00m\u001b[43m,\u001b[49m\n\u001b[1;32m   1287\u001b[0m \u001b[43m\u001b[49m\u001b[43m)\u001b[49m\n",
      "File \u001b[0;32m~/.local/lib/python3.12/site-packages/ipykernel/kernelbase.py:1325\u001b[0m, in \u001b[0;36mKernel._input_request\u001b[0;34m(self, prompt, ident, parent, password)\u001b[0m\n\u001b[1;32m   1322\u001b[0m \u001b[38;5;28;01mexcept\u001b[39;00m \u001b[38;5;167;01mKeyboardInterrupt\u001b[39;00m:\n\u001b[1;32m   1323\u001b[0m     \u001b[38;5;66;03m# re-raise KeyboardInterrupt, to truncate traceback\u001b[39;00m\n\u001b[1;32m   1324\u001b[0m     msg \u001b[38;5;241m=\u001b[39m \u001b[38;5;124m\"\u001b[39m\u001b[38;5;124mInterrupted by user\u001b[39m\u001b[38;5;124m\"\u001b[39m\n\u001b[0;32m-> 1325\u001b[0m     \u001b[38;5;28;01mraise\u001b[39;00m \u001b[38;5;167;01mKeyboardInterrupt\u001b[39;00m(msg) \u001b[38;5;28;01mfrom\u001b[39;00m \u001b[38;5;28;01mNone\u001b[39;00m\n\u001b[1;32m   1326\u001b[0m \u001b[38;5;28;01mexcept\u001b[39;00m \u001b[38;5;167;01mException\u001b[39;00m:\n\u001b[1;32m   1327\u001b[0m     \u001b[38;5;28mself\u001b[39m\u001b[38;5;241m.\u001b[39mlog\u001b[38;5;241m.\u001b[39mwarning(\u001b[38;5;124m\"\u001b[39m\u001b[38;5;124mInvalid Message:\u001b[39m\u001b[38;5;124m\"\u001b[39m, exc_info\u001b[38;5;241m=\u001b[39m\u001b[38;5;28;01mTrue\u001b[39;00m)\n",
      "\u001b[0;31mKeyboardInterrupt\u001b[0m: Interrupted by user"
     ]
    }
   ],
   "source": [
    "# Getting user input and using it\n",
    "name = input(\"What's your name? >>> \")\n",
    "print(\"Hello\"+ name + \"!\")\n",
    "\n",
    "# Working with numbers\n",
    "age = input(\"How old you? >>> \") #숫자변환\n",
    "print(\"Next year, you will be \" + str(int(age) + 1) + \"!\")"
   ]
  },
  {
   "cell_type": "markdown",
   "metadata": {},
   "source": [
    "# 4. If Statements (Conditionals)\n",
    "\n",
    "Introduce the concept of decision-making using if, else, and elif."
   ]
  },
  {
   "cell_type": "code",
   "execution_count": 47,
   "metadata": {},
   "outputs": [],
   "source": [
    "# Basic if-else example\n",
    "number = int(input(\"Enter a number: >>> \"))\n",
    "\n",
    "if number > 0:\n",
    "    print(\"You are possitive\")\n",
    "    \n",
    "    if number % 2 == 0: \n",
    "        print(\"You are even!\")\n",
    "     else:\n",
    "        print(\"You are odd\")\n",
    "\n",
    "else:\n",
    "    print(\"You are negetive\")\n"
   ]
  },
  {
   "cell_type": "markdown",
   "metadata": {},
   "source": [
    "# 5. For Loop (Iteration)\n",
    "\n",
    "A basic introduction to loops with a for loop that repeats a certain number of times."
   ]
  },
  {
   "cell_type": "code",
   "execution_count": 58,
   "metadata": {},
   "outputs": [
    {
     "ename": "TypeError",
     "evalue": "'x' is an invalid keyword argument for print()",
     "output_type": "error",
     "traceback": [
      "\u001b[0;31m---------------------------------------------------------------------------\u001b[0m",
      "\u001b[0;31mTypeError\u001b[0m                                 Traceback (most recent call last)",
      "Cell \u001b[0;32mIn[58], line 3\u001b[0m\n\u001b[1;32m      1\u001b[0m \u001b[38;5;66;03m# Basic for loop example\u001b[39;00m\n\u001b[1;32m      2\u001b[0m \u001b[38;5;28;01mfor\u001b[39;00m x \u001b[38;5;129;01min\u001b[39;00m \u001b[38;5;28mrange\u001b[39m(\u001b[38;5;241m5\u001b[39m):\n\u001b[0;32m----> 3\u001b[0m     \u001b[38;5;28;43mprint\u001b[39;49m\u001b[43m(\u001b[49m\u001b[38;5;124;43m\"\u001b[39;49m\u001b[38;5;124;43mLoop iteration\u001b[39;49m\u001b[38;5;124;43m\"\u001b[39;49m\u001b[43m,\u001b[49m\u001b[43m \u001b[49m\u001b[43mx\u001b[49m\u001b[38;5;241;43m=\u001b[39;49m\u001b[38;5;241;43m1\u001b[39;49m\u001b[43m)\u001b[49m\n",
      "\u001b[0;31mTypeError\u001b[0m: 'x' is an invalid keyword argument for print()"
     ]
    }
   ],
   "source": [
    "# Basic for loop example\n",
    "for x in range(1):\n",
    "    print(\"Loop iteration\", x=1)"
   ]
  },
  {
   "cell_type": "code",
   "execution_count": null,
   "metadata": {},
   "outputs": [],
   "source": [
    "for x in range(10, 20, 2):\n",
    "    print(\"Loop iteration\", x/2)"
   ]
  },
  {
   "cell_type": "markdown",
   "metadata": {},
   "source": [
    "# 6. While Loop (Iteration with Condition)\n",
    "\n",
    "Demonstrates a loop that runs until a condition is met."
   ]
  },
  {
   "cell_type": "code",
   "execution_count": 59,
   "metadata": {},
   "outputs": [
    {
     "name": "stdout",
     "output_type": "stream",
     "text": [
      "Count: 1\n",
      "Count: 2\n",
      "Count: 3\n",
      "Count: 4\n",
      "Count: 5\n",
      "Count: 6\n",
      "Count: 7\n",
      "Count: 8\n",
      "Count: 9\n",
      "Count: 10\n",
      "Count: 11\n",
      "Count: 12\n"
     ]
    }
   ],
   "source": [
    "# Basic while loop example\n",
    "start = 1\n",
    "while start <= 12:\n",
    "    print(\"Count:\", start)\n",
    "    start += 1\n",
    "    "
   ]
  },
  {
   "cell_type": "markdown",
   "metadata": {},
   "source": [
    "# 7. Basic Function Example\n",
    "\n",
    "Introducing how to write and call functions."
   ]
  },
  {
   "cell_type": "code",
   "execution_count": 50,
   "metadata": {},
   "outputs": [],
   "source": [
    "# Function to greet the user\n"
   ]
  },
  {
   "cell_type": "markdown",
   "metadata": {},
   "source": [
    "# 8. Simple Temperature Converter\n",
    "\n",
    "Combines input, conditionals, and functions in a real-world example."
   ]
  },
  {
   "cell_type": "code",
   "execution_count": 51,
   "metadata": {},
   "outputs": [],
   "source": [
    "# Function to convert Celsius to Fahrenheit\n",
    "\n",
    "\n",
    "# Get temperature from user\n"
   ]
  },
  {
   "cell_type": "markdown",
   "metadata": {},
   "source": [
    "# 9. Simple Guessing Game\n",
    "\n",
    "A fun exercise that involves loops, conditionals, and randomness."
   ]
  },
  {
   "cell_type": "code",
   "execution_count": 52,
   "metadata": {},
   "outputs": [],
   "source": [
    "\n",
    "# Generate a random number between 1 and 10\n",
    "\n",
    "\n",
    "# Keep asking the user until they guess correctly\n"
   ]
  },
  {
   "cell_type": "markdown",
   "metadata": {},
   "source": [
    "# 10. FizzBuzz (Classic Example)\n",
    "\n",
    "A popular coding challenge that helps beginners practice conditionals and loops.\n",
    "\n",
    "**Problem Statement:**\n",
    "\n",
    "Print numbers from 1 to n, where n is a positive integer. For each number:\n",
    "\n",
    "- Print \"Fizz\" if the number is divisible by 3.\n",
    "- Print \"Buzz\" if the number is divisible by 5.\n",
    "- Print \"FizzBuzz\" if the number is divisible by both 3 and 5.\n",
    "- Print the number itself if it is not divisible by either 3 or 5."
   ]
  },
  {
   "cell_type": "code",
   "execution_count": 53,
   "metadata": {},
   "outputs": [],
   "source": [
    "# FizzBuzz example\n"
   ]
  },
  {
   "cell_type": "markdown",
   "metadata": {},
   "source": [
    "# Bonus: Recursive Fibonacci Function\n",
    "\n",
    "A more advanced example that demonstrates recursion."
   ]
  },
  {
   "cell_type": "code",
   "execution_count": 54,
   "metadata": {},
   "outputs": [
    {
     "ename": "SyntaxError",
     "evalue": "incomplete input (543566414.py, line 7)",
     "output_type": "error",
     "traceback": [
      "\u001b[0;36m  Cell \u001b[0;32mIn[54], line 7\u001b[0;36m\u001b[0m\n\u001b[0;31m    # Example usage\u001b[0m\n\u001b[0m                   ^\u001b[0m\n\u001b[0;31mSyntaxError\u001b[0m\u001b[0;31m:\u001b[0m incomplete input\n"
     ]
    }
   ],
   "source": [
    "def fibonacci(n):\n",
    "    # Base cases\n",
    "\n",
    "        # Recursive case: F(n) = F(n-1) + F(n-2)\n",
    "        \n",
    "\n",
    "# Example usage\n"
   ]
  },
  {
   "cell_type": "code",
   "execution_count": null,
   "metadata": {},
   "outputs": [],
   "source": []
  }
 ],
 "metadata": {
  "kernelspec": {
   "display_name": "Python 3",
   "language": "python",
   "name": "python3"
  },
  "language_info": {
   "codemirror_mode": {
    "name": "ipython",
    "version": 3
   },
   "file_extension": ".py",
   "mimetype": "text/x-python",
   "name": "python",
   "nbconvert_exporter": "python",
   "pygments_lexer": "ipython3",
   "version": "3.12.1"
  }
 },
 "nbformat": 4,
 "nbformat_minor": 2
}
